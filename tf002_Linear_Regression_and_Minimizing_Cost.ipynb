{
  "nbformat": 4,
  "nbformat_minor": 0,
  "metadata": {
    "colab": {
      "name": "tf002_Linear_Regression_and_Minimizing_Cost.ipynb",
      "provenance": [],
      "authorship_tag": "ABX9TyMxVSp0G4ZH6wmnxb8Eaznc",
      "include_colab_link": true
    },
    "kernelspec": {
      "name": "python3",
      "display_name": "Python 3"
    },
    "language_info": {
      "name": "python"
    }
  },
  "cells": [
    {
      "cell_type": "markdown",
      "metadata": {
        "id": "view-in-github",
        "colab_type": "text"
      },
      "source": [
        "<a href=\"https://colab.research.google.com/github/hgstyler/ML_tutorial/blob/main/tf002_Linear_Regression_and_Minimizing_Cost.ipynb\" target=\"_parent\"><img src=\"https://colab.research.google.com/assets/colab-badge.svg\" alt=\"Open In Colab\"/></a>"
      ]
    },
    {
      "cell_type": "code",
      "execution_count": 28,
      "metadata": {
        "colab": {
          "base_uri": "https://localhost:8080/"
        },
        "id": "8gkWXkZ6ty5G",
        "outputId": "7d5569c2-4caa-49bd-c4f1-03a677142ab0"
      },
      "outputs": [
        {
          "output_type": "stream",
          "name": "stdout",
          "text": [
            "    0 | 18332.2188 |  47.398293\n",
            "   10 |  3855.3564 |  22.638384\n",
            "   20 |   810.9046 |  11.283927\n",
            "   30 |   170.6631 |   6.076973\n",
            "   40 |    36.0217 |   3.689155\n",
            "   50 |     7.7069 |   2.594144\n",
            "   60 |     1.7524 |   2.091991\n",
            "   70 |     0.5001 |   1.861713\n",
            "   80 |     0.2368 |   1.756112\n",
            "   90 |     0.1814 |   1.707684\n",
            "  100 |     0.1698 |   1.685477\n",
            "  110 |     0.1673 |   1.675292\n",
            "  120 |     0.1668 |   1.670622\n",
            "  130 |     0.1667 |   1.668481\n",
            "  140 |     0.1667 |   1.667498\n",
            "  150 |     0.1667 |   1.667048\n",
            "  160 |     0.1667 |   1.666842\n",
            "  170 |     0.1667 |   1.666747\n",
            "  180 |     0.1667 |   1.666703\n",
            "  190 |     0.1667 |   1.666684\n",
            "  200 |     0.1667 |   1.666674\n",
            "  210 |     0.1667 |   1.666670\n",
            "  220 |     0.1667 |   1.666668\n",
            "  230 |     0.1667 |   1.666667\n",
            "  240 |     0.1667 |   1.666667\n",
            "  250 |     0.1667 |   1.666667\n",
            "  260 |     0.1667 |   1.666667\n",
            "  270 |     0.1667 |   1.666667\n",
            "  280 |     0.1667 |   1.666667\n",
            "  290 |     0.1667 |   1.666667\n",
            "  300 |     0.1667 |   1.666667\n"
          ]
        }
      ],
      "source": [
        "import tensorflow as tf\n",
        "import numpy as np\n",
        "\n",
        "tf.random.set_seed(0) # for reproducibility\n",
        "\n",
        "x_data = [1., 2., 3., 4.]\n",
        "y_data = [1., 3., 5., 7.]\n",
        "\n",
        "W = tf.Variable(tf.random.normal([1], -100., 100.))\n",
        "\n",
        "for step in range(300 + 1):\n",
        "    hypothesis = W * x_data\n",
        "    cost = tf.reduce_mean(tf.square(hypothesis - y_data))\n",
        "\n",
        "    alpha = 0.01\n",
        "    gradient = tf.reduce_mean(tf.multiply(tf.multiply(W, x_data) - y_data, x_data))\n",
        "    descent = W - tf.multiply(alpha, gradient)\n",
        "    W.assign(descent)\n",
        "    \n",
        "    if step % 10 == 0:\n",
        "        print('{:5} | {:10.4f} | {:10.6f}'.format(\n",
        "            step, cost.numpy(), W.numpy()[0]))\n",
        "        "
      ]
    },
    {
      "cell_type": "code",
      "source": [
        "print(W * 3)"
      ],
      "metadata": {
        "colab": {
          "base_uri": "https://localhost:8080/"
        },
        "id": "JG7Jvbpax3Ip",
        "outputId": "57d37c91-759d-414c-8ef1-ad8fd2bb417c"
      },
      "execution_count": 29,
      "outputs": [
        {
          "output_type": "stream",
          "name": "stdout",
          "text": [
            "tf.Tensor([5.0000024], shape=(1,), dtype=float32)\n"
          ]
        }
      ]
    },
    {
      "cell_type": "code",
      "source": [
        "import tensorflow as tf\n",
        "import numpy as np\n",
        "\n",
        "tf.random.set_seed(0) # for reproducibility\n",
        "\n",
        "x_data = [1., 2., 3., 4.]\n",
        "y_data = [1., 3., 5., 7.]\n",
        "\n",
        "W = tf.Variable([999.9])\n",
        "\n",
        "for step in range(300 + 1):\n",
        "    hypothesis = W * x_data\n",
        "    cost = tf.reduce_mean(tf.square(hypothesis - y_data))\n",
        "\n",
        "    alpha = 0.01\n",
        "    gradient = tf.reduce_mean(tf.multiply(tf.multiply(W, x_data) - y_data, x_data))\n",
        "    descent = W - tf.multiply(alpha, gradient)\n",
        "    W.assign(descent)\n",
        "    \n",
        "    if step % 10 == 0:\n",
        "        print('{:5} | {:10.4f} | {:10.6f}'.format(\n",
        "            step, cost.numpy(), W.numpy()[0]))\n",
        "        "
      ],
      "metadata": {
        "colab": {
          "base_uri": "https://localhost:8080/"
        },
        "id": "kCoNFhbyx9PF",
        "outputId": "b84c79ac-b9fe-4fda-82e0-35bd0dea677d"
      },
      "execution_count": 30,
      "outputs": [
        {
          "output_type": "stream",
          "name": "stdout",
          "text": [
            "    0 | 7473524.0000 | 925.032532\n",
            "   10 | 1571665.7500 | 425.105988\n",
            "   20 | 330518.0000 | 195.848480\n",
            "   30 | 69507.3438 |  90.715027\n",
            "   40 | 14617.3711 |  42.502674\n",
            "   50 |  3074.1321 |  20.393337\n",
            "   60 |   646.6146 |  10.254387\n",
            "   70 |   136.1132 |   5.604843\n",
            "   80 |    28.7559 |   3.472645\n",
            "   90 |     6.1789 |   2.494856\n",
            "  100 |     1.4310 |   2.046460\n",
            "  110 |     0.4326 |   1.840833\n",
            "  120 |     0.2226 |   1.746536\n",
            "  130 |     0.1784 |   1.703293\n",
            "  140 |     0.1691 |   1.683463\n",
            "  150 |     0.1672 |   1.674369\n",
            "  160 |     0.1668 |   1.670199\n",
            "  170 |     0.1667 |   1.668286\n",
            "  180 |     0.1667 |   1.667410\n",
            "  190 |     0.1667 |   1.667007\n",
            "  200 |     0.1667 |   1.666823\n",
            "  210 |     0.1667 |   1.666738\n",
            "  220 |     0.1667 |   1.666700\n",
            "  230 |     0.1667 |   1.666682\n",
            "  240 |     0.1667 |   1.666674\n",
            "  250 |     0.1667 |   1.666670\n",
            "  260 |     0.1667 |   1.666668\n",
            "  270 |     0.1667 |   1.666667\n",
            "  280 |     0.1667 |   1.666667\n",
            "  290 |     0.1667 |   1.666667\n",
            "  300 |     0.1667 |   1.666667\n"
          ]
        }
      ]
    },
    {
      "cell_type": "code",
      "source": [
        "print(W * 3)"
      ],
      "metadata": {
        "colab": {
          "base_uri": "https://localhost:8080/"
        },
        "id": "Q9JKn7UZyaZS",
        "outputId": "fecd30e1-b49f-494b-9688-aa96b3697381"
      },
      "execution_count": 31,
      "outputs": [
        {
          "output_type": "stream",
          "name": "stdout",
          "text": [
            "tf.Tensor([5.0000024], shape=(1,), dtype=float32)\n"
          ]
        }
      ]
    }
  ]
}