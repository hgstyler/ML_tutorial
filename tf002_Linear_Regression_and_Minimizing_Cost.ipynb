{
  "nbformat": 4,
  "nbformat_minor": 0,
  "metadata": {
    "colab": {
      "name": "tf002_Linear_Regression_and_Minimizing_Cost.ipynb",
      "provenance": [],
      "authorship_tag": "ABX9TyNGop4yJr9E3PoSbNC9fBAV",
      "include_colab_link": true
    },
    "kernelspec": {
      "name": "python3",
      "display_name": "Python 3"
    },
    "language_info": {
      "name": "python"
    }
  },
  "cells": [
    {
      "cell_type": "markdown",
      "metadata": {
        "id": "view-in-github",
        "colab_type": "text"
      },
      "source": [
        "<a href=\"https://colab.research.google.com/github/hgstyler/ML_tutorial/blob/main/tf002_Linear_Regression_and_Minimizing_Cost.ipynb\" target=\"_parent\"><img src=\"https://colab.research.google.com/assets/colab-badge.svg\" alt=\"Open In Colab\"/></a>"
      ]
    },
    {
      "cell_type": "code",
      "execution_count": 22,
      "metadata": {
        "colab": {
          "base_uri": "https://localhost:8080/"
        },
        "id": "8gkWXkZ6ty5G",
        "outputId": "f697a598-4906-456f-b392-1f1db5f32688"
      },
      "outputs": [
        {
          "output_type": "stream",
          "name": "stdout",
          "text": [
            "    0 | 18332.2188 |  47.398293\n",
            "   10 |  3855.3564 |  22.638384\n",
            "   20 |   810.9046 |  11.283927\n",
            "   30 |   170.6631 |   6.076973\n",
            "   40 |    36.0217 |   3.689155\n",
            "   50 |     7.7069 |   2.594144\n",
            "   60 |     1.7524 |   2.091991\n",
            "   70 |     0.5001 |   1.861713\n",
            "   80 |     0.2368 |   1.756112\n",
            "   90 |     0.1814 |   1.707684\n",
            "  100 |     0.1698 |   1.685477\n",
            "  110 |     0.1673 |   1.675292\n",
            "  120 |     0.1668 |   1.670622\n",
            "  130 |     0.1667 |   1.668481\n",
            "  140 |     0.1667 |   1.667498\n",
            "  150 |     0.1667 |   1.667048\n",
            "  160 |     0.1667 |   1.666842\n",
            "  170 |     0.1667 |   1.666747\n",
            "  180 |     0.1667 |   1.666703\n",
            "  190 |     0.1667 |   1.666684\n",
            "  200 |     0.1667 |   1.666674\n",
            "  210 |     0.1667 |   1.666670\n",
            "  220 |     0.1667 |   1.666668\n",
            "  230 |     0.1667 |   1.666667\n",
            "  240 |     0.1667 |   1.666667\n",
            "  250 |     0.1667 |   1.666667\n",
            "  260 |     0.1667 |   1.666667\n",
            "  270 |     0.1667 |   1.666667\n",
            "  280 |     0.1667 |   1.666667\n",
            "  290 |     0.1667 |   1.666667\n",
            "  300 |     0.1667 |   1.666667\n"
          ]
        }
      ],
      "source": [
        "import tensorflow as tf\n",
        "import numpy as np\n",
        "\n",
        "tf.random.set_seed(0) # for reproducibility\n",
        "\n",
        "x_data = [1., 2., 3., 4.]\n",
        "y_data = [1., 3., 5., 7.]\n",
        "\n",
        "W = tf.Variable(tf.random.normal([1], -100., 100.))\n",
        "\n",
        "for step in range(300 + 1):\n",
        "    hypothesis = W * x_data\n",
        "    cost = tf.reduce_mean(tf.square(hypothesis - Y))\n",
        "\n",
        "    alpha = 0.01\n",
        "    gradient = tf.reduce_mean(tf.multiply(tf.multiply(W, X) - Y, X))\n",
        "    descent = W - tf.multiply(alpha, gradient)\n",
        "    W.assign(descent)\n",
        "    \n",
        "    if step % 10 == 0:\n",
        "        print('{:5} | {:10.4f} | {:10.6f}'.format(\n",
        "            step, cost.numpy(), W.numpy()[0]))\n",
        "        "
      ]
    },
    {
      "cell_type": "code",
      "source": [
        "print(W * 3)"
      ],
      "metadata": {
        "colab": {
          "base_uri": "https://localhost:8080/"
        },
        "id": "JG7Jvbpax3Ip",
        "outputId": "634f7db8-b47c-4fcf-c609-b4b9bd380ac1"
      },
      "execution_count": 23,
      "outputs": [
        {
          "output_type": "stream",
          "name": "stdout",
          "text": [
            "tf.Tensor([5.0000024], shape=(1,), dtype=float32)\n"
          ]
        }
      ]
    },
    {
      "cell_type": "code",
      "source": [
        "import tensorflow as tf\n",
        "import numpy as np\n",
        "\n",
        "tf.random.set_seed(0) # for reproducibility\n",
        "\n",
        "x_data = [1., 2., 3., 4.]\n",
        "y_data = [1., 3., 5., 7.]\n",
        "\n",
        "W = tf.Variable([999.0])\n",
        "\n",
        "for step in range(300 + 1):\n",
        "    hypothesis = W * x_data\n",
        "    cost = tf.reduce_mean(tf.square(hypothesis - Y))\n",
        "\n",
        "    alpha = 0.01\n",
        "    gradient = tf.reduce_mean(tf.multiply(tf.multiply(W, X) - Y, X))\n",
        "    descent = W - tf.multiply(alpha, gradient)\n",
        "    W.assign(descent)\n",
        "    \n",
        "    if step % 10 == 0:\n",
        "        print('{:5} | {:10.4f} | {:10.6f}'.format(\n",
        "            step, cost.numpy(), W.numpy()[0]))\n",
        "        "
      ],
      "metadata": {
        "colab": {
          "base_uri": "https://localhost:8080/"
        },
        "id": "kCoNFhbyx9PF",
        "outputId": "5aa80387-2b80-4ac4-94fb-16c9efd0e383"
      },
      "execution_count": 24,
      "outputs": [
        {
          "output_type": "stream",
          "name": "stdout",
          "text": [
            "    0 | 7460053.5000 | 924.200012\n",
            "   10 | 1568833.0000 | 424.724182\n",
            "   20 | 329922.1562 | 195.673370\n",
            "   30 | 69382.0312 |  90.634720\n",
            "   40 | 14591.0176 |  42.465847\n",
            "   50 |  3068.5901 |  20.376450\n",
            "   60 |   645.4493 |  10.246643\n",
            "   70 |   135.8681 |   5.601292\n",
            "   80 |    28.7044 |   3.471016\n",
            "   90 |     6.1681 |   2.494110\n",
            "  100 |     1.4288 |   2.046117\n",
            "  110 |     0.4321 |   1.840676\n",
            "  120 |     0.2225 |   1.746464\n",
            "  130 |     0.1784 |   1.703260\n",
            "  140 |     0.1691 |   1.683448\n",
            "  150 |     0.1672 |   1.674362\n",
            "  160 |     0.1668 |   1.670196\n",
            "  170 |     0.1667 |   1.668285\n",
            "  180 |     0.1667 |   1.667409\n",
            "  190 |     0.1667 |   1.667007\n",
            "  200 |     0.1667 |   1.666823\n",
            "  210 |     0.1667 |   1.666738\n",
            "  220 |     0.1667 |   1.666700\n",
            "  230 |     0.1667 |   1.666682\n",
            "  240 |     0.1667 |   1.666674\n",
            "  250 |     0.1667 |   1.666670\n",
            "  260 |     0.1667 |   1.666668\n",
            "  270 |     0.1667 |   1.666667\n",
            "  280 |     0.1667 |   1.666667\n",
            "  290 |     0.1667 |   1.666667\n",
            "  300 |     0.1667 |   1.666667\n"
          ]
        }
      ]
    },
    {
      "cell_type": "code",
      "source": [
        "print(W * 3)"
      ],
      "metadata": {
        "colab": {
          "base_uri": "https://localhost:8080/"
        },
        "id": "Q9JKn7UZyaZS",
        "outputId": "cd60545e-0ebc-42e8-c6a8-b9be7c6ea536"
      },
      "execution_count": 25,
      "outputs": [
        {
          "output_type": "stream",
          "name": "stdout",
          "text": [
            "tf.Tensor([5.0000024], shape=(1,), dtype=float32)\n"
          ]
        }
      ]
    }
  ]
}