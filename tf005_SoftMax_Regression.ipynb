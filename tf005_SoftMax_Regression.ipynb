{
  "nbformat": 4,
  "nbformat_minor": 0,
  "metadata": {
    "colab": {
      "name": "tf005_SoftMax_Regression.ipynb",
      "provenance": [],
      "authorship_tag": "ABX9TyM0qMXo3yNJLwrv4LUkcDqB",
      "include_colab_link": true
    },
    "kernelspec": {
      "name": "python3",
      "display_name": "Python 3"
    },
    "language_info": {
      "name": "python"
    }
  },
  "cells": [
    {
      "cell_type": "markdown",
      "metadata": {
        "id": "view-in-github",
        "colab_type": "text"
      },
      "source": [
        "<a href=\"https://colab.research.google.com/github/hgstyler/ML_tutorial/blob/main/tf005_SoftMax_Regression.ipynb\" target=\"_parent\"><img src=\"https://colab.research.google.com/assets/colab-badge.svg\" alt=\"Open In Colab\"/></a>"
      ]
    },
    {
      "cell_type": "code",
      "execution_count": 1,
      "metadata": {
        "id": "zfddsqyBYj9e"
      },
      "outputs": [],
      "source": [
        "import tensorflow as tf\n",
        "import numpy as np\n",
        "\n",
        "tf.random.set_seed(777)  # for reproducibility"
      ]
    },
    {
      "cell_type": "code",
      "source": [
        "x_data = [[1, 2, 1, 1],\n",
        "          [2, 1, 3, 2],\n",
        "          [3, 1, 3, 4],\n",
        "          [4, 1, 5, 5],\n",
        "          [1, 7, 5, 5],\n",
        "          [1, 2, 5, 6],\n",
        "          [1, 6, 6, 6],\n",
        "          [1, 7, 7, 7]]\n",
        "y_data = [[0, 0, 1],\n",
        "          [0, 0, 1],\n",
        "          [0, 0, 1],\n",
        "          [0, 1, 0],\n",
        "          [0, 1, 0],\n",
        "          [0, 1, 0],\n",
        "          [1, 0, 0],\n",
        "          [1, 0, 0]]\n",
        "\n",
        "#convert into numpy and float format\n",
        "x_data = np.asarray(x_data, dtype=np.float32)\n",
        "y_data = np.asarray(y_data, dtype=np.float32)"
      ],
      "metadata": {
        "id": "fsgHBHuekAO1"
      },
      "execution_count": 2,
      "outputs": []
    },
    {
      "cell_type": "code",
      "source": [
        "nb_classes = 3 # 3 classes\n",
        "\n",
        "print(x_data.shape)\n",
        "print(y_data.shape)"
      ],
      "metadata": {
        "colab": {
          "base_uri": "https://localhost:8080/"
        },
        "id": "SonEn5Fykkzx",
        "outputId": "a23ac414-b99e-4e50-a6f9-4f2451743233"
      },
      "execution_count": 3,
      "outputs": [
        {
          "output_type": "stream",
          "name": "stdout",
          "text": [
            "(8, 4)\n",
            "(8, 3)\n"
          ]
        }
      ]
    },
    {
      "cell_type": "code",
      "source": [
        "#Weight and bias setting\n",
        "W = tf.Variable(tf.random.normal([4, nb_classes]), name='weight')\n",
        "b = tf.Variable(tf.random.normal([nb_classes]), name='bias')\n",
        "variables = [W, b]\n",
        "\n",
        "print(W,b)"
      ],
      "metadata": {
        "colab": {
          "base_uri": "https://localhost:8080/"
        },
        "id": "7rCa-pohksxJ",
        "outputId": "027a4b58-95b2-4941-cb37-06c163edb300"
      },
      "execution_count": 4,
      "outputs": [
        {
          "output_type": "stream",
          "name": "stdout",
          "text": [
            "<tf.Variable 'weight:0' shape=(4, 3) dtype=float32, numpy=\n",
            "array([[ 0.7706481 ,  0.37335402, -0.05576323],\n",
            "       [ 0.00358377, -0.5898363 ,  1.5702795 ],\n",
            "       [ 0.2460895 , -0.09918973,  1.4418385 ],\n",
            "       [ 0.3200988 ,  0.526784  , -0.7703731 ]], dtype=float32)> <tf.Variable 'bias:0' shape=(3,) dtype=float32, numpy=array([-1.3080608 , -0.13253094,  0.5513761 ], dtype=float32)>\n"
          ]
        }
      ]
    },
    {
      "cell_type": "code",
      "source": [
        "# tf.nn.softmax computes softmax activations\n",
        "# softmax = exp(logits) / reduce_sum(exp(logits), dim)\n",
        "def hypothesis(X):\n",
        "    return tf.nn.softmax(tf.matmul(X, W) + b)\n",
        "\n",
        "print(hypothesis(x_data))"
      ],
      "metadata": {
        "colab": {
          "base_uri": "https://localhost:8080/"
        },
        "id": "6JA5P5JrlIAV",
        "outputId": "cefa0c0e-7407-4f17-c110-b9853026e64c"
      },
      "execution_count": 5,
      "outputs": [
        {
          "output_type": "stream",
          "name": "stdout",
          "text": [
            "tf.Tensor(\n",
            "[[1.36571964e-02 7.90162385e-03 9.78441238e-01]\n",
            " [3.92597765e-02 1.70347411e-02 9.43705440e-01]\n",
            " [3.80385250e-01 1.67723164e-01 4.51891571e-01]\n",
            " [3.23390484e-01 5.90759404e-02 6.17533624e-01]\n",
            " [3.62997389e-06 6.20727292e-08 9.99996305e-01]\n",
            " [2.62520202e-02 1.07279625e-02 9.63019967e-01]\n",
            " [1.56525111e-05 4.21802753e-07 9.99983907e-01]\n",
            " [2.94076904e-06 3.81133276e-08 9.99997020e-01]], shape=(8, 3), dtype=float32)\n"
          ]
        }
      ]
    },
    {
      "cell_type": "code",
      "source": [
        "# Softmax onehot test\n",
        "sample_db = [[8,2,1,4]]\n",
        "sample_db = np.asarray(sample_db, dtype=np.float32)\n",
        "\n",
        "print(hypothesis(sample_db))"
      ],
      "metadata": {
        "colab": {
          "base_uri": "https://localhost:8080/"
        },
        "id": "jWKPQA6tlPY5",
        "outputId": "5e2668ac-df8c-4c47-8d8e-e05f871d9b97"
      },
      "execution_count": 6,
      "outputs": [
        {
          "output_type": "stream",
          "name": "stdout",
          "text": [
            "tf.Tensor([[0.9302204  0.06200533 0.00777428]], shape=(1, 3), dtype=float32)\n"
          ]
        }
      ]
    },
    {
      "cell_type": "code",
      "source": [
        "def cost_fn(X, Y):\n",
        "    logits = hypothesis(X)\n",
        "    cost = -tf.reduce_sum(Y * tf.math.log(logits), axis=1)\n",
        "    cost_mean = tf.reduce_mean(cost)\n",
        "    \n",
        "    return cost_mean\n",
        "\n",
        "print(cost_fn(x_data, y_data))"
      ],
      "metadata": {
        "colab": {
          "base_uri": "https://localhost:8080/"
        },
        "id": "0WakZy2kmGEV",
        "outputId": "b6e18852-cf87-4333-be33-964286a59c20"
      },
      "execution_count": 7,
      "outputs": [
        {
          "output_type": "stream",
          "name": "stdout",
          "text": [
            "tf.Tensor(6.07932, shape=(), dtype=float32)\n"
          ]
        }
      ]
    },
    {
      "cell_type": "code",
      "source": [
        "x = tf.constant(3.0)\n",
        "with tf.GradientTape() as g:\n",
        "    g.watch(x)\n",
        "    y = x * x # x^2\n",
        "dy_dx = g.gradient(y, x) # Will compute to 6.0\n",
        "print(dy_dx)"
      ],
      "metadata": {
        "colab": {
          "base_uri": "https://localhost:8080/"
        },
        "id": "D7pXN4DomPZX",
        "outputId": "c61b9a61-198e-4efc-a443-686d7647f8e7"
      },
      "execution_count": 8,
      "outputs": [
        {
          "output_type": "stream",
          "name": "stdout",
          "text": [
            "tf.Tensor(6.0, shape=(), dtype=float32)\n"
          ]
        }
      ]
    },
    {
      "cell_type": "code",
      "source": [
        "def grad_fn(X, Y):\n",
        "    with tf.GradientTape() as tape:\n",
        "        loss = cost_fn(X, Y)\n",
        "        grads = tape.gradient(loss, variables)\n",
        "\n",
        "        return grads\n",
        "\n",
        "print(grad_fn(x_data, y_data))"
      ],
      "metadata": {
        "colab": {
          "base_uri": "https://localhost:8080/"
        },
        "id": "qlNqH5stmSIj",
        "outputId": "7c50c5c7-5a82-4c54-c95b-90e8a85c9279"
      },
      "execution_count": 9,
      "outputs": [
        {
          "output_type": "stream",
          "name": "stdout",
          "text": [
            "[<tf.Tensor: shape=(4, 3), dtype=float32, numpy=\n",
            "array([[ 0.06914607, -0.6509784 ,  0.5818323 ],\n",
            "       [-1.5221257 , -1.214863  ,  2.7369885 ],\n",
            "       [-1.2473828 , -1.7611003 ,  3.008483  ],\n",
            "       [-1.2014606 , -1.8659233 ,  3.0673838 ]], dtype=float32)>, <tf.Tensor: shape=(3,), dtype=float32, numpy=array([-0.15212913, -0.34219202,  0.4943211 ], dtype=float32)>]\n"
          ]
        }
      ]
    },
    {
      "cell_type": "code",
      "source": [
        "def fit(X, Y, epochs=2000, verbose=100):\n",
        "    optimizer =  tf.compat.v1.train.GradientDescentOptimizer(learning_rate=0.1)\n",
        "\n",
        "    for i in range(epochs):\n",
        "        grads = grad_fn(X, Y)\n",
        "        optimizer.apply_gradients(zip(grads, variables))\n",
        "        if (i==0) | ((i+1)%verbose==0):\n",
        "            print('Loss at epoch %d: %f' %(i+1, cost_fn(X, Y).numpy()))\n",
        "            \n",
        "fit(x_data, y_data)"
      ],
      "metadata": {
        "colab": {
          "base_uri": "https://localhost:8080/"
        },
        "id": "K-rBc5oQmUb4",
        "outputId": "8342ee0f-0ffc-4efa-f9b2-0faba7732b42"
      },
      "execution_count": 10,
      "outputs": [
        {
          "output_type": "stream",
          "name": "stdout",
          "text": [
            "Loss at epoch 1: 2.849417\n",
            "Loss at epoch 100: 0.684151\n",
            "Loss at epoch 200: 0.613813\n",
            "Loss at epoch 300: 0.558204\n",
            "Loss at epoch 400: 0.508306\n",
            "Loss at epoch 500: 0.461059\n",
            "Loss at epoch 600: 0.415072\n",
            "Loss at epoch 700: 0.369636\n",
            "Loss at epoch 800: 0.324533\n",
            "Loss at epoch 900: 0.280721\n",
            "Loss at epoch 1000: 0.246752\n",
            "Loss at epoch 1100: 0.232798\n",
            "Loss at epoch 1200: 0.221645\n",
            "Loss at epoch 1300: 0.211476\n",
            "Loss at epoch 1400: 0.202164\n",
            "Loss at epoch 1500: 0.193606\n",
            "Loss at epoch 1600: 0.185714\n",
            "Loss at epoch 1700: 0.178415\n",
            "Loss at epoch 1800: 0.171645\n",
            "Loss at epoch 1900: 0.165350\n",
            "Loss at epoch 2000: 0.159483\n"
          ]
        }
      ]
    },
    {
      "cell_type": "code",
      "source": [
        "sample_data = [[2,1,3,2]] # answer_label [[0,0,1]]\n",
        "sample_data = np.asarray(sample_data, dtype=np.float32)\n",
        "\n",
        "a = hypothesis(sample_data)\n",
        "\n",
        "print(a)\n",
        "print(tf.argmax(a, 1)) #index: 2"
      ],
      "metadata": {
        "colab": {
          "base_uri": "https://localhost:8080/"
        },
        "id": "1SMNHKaVmiX6",
        "outputId": "5285d467-bbca-42dc-e222-b2b27b778298"
      },
      "execution_count": 11,
      "outputs": [
        {
          "output_type": "stream",
          "name": "stdout",
          "text": [
            "tf.Tensor([[0.00112886 0.08154671 0.9173244 ]], shape=(1, 3), dtype=float32)\n",
            "tf.Tensor([2], shape=(1,), dtype=int64)\n"
          ]
        }
      ]
    },
    {
      "cell_type": "code",
      "source": [
        "b = hypothesis(x_data)\n",
        "print(b)\n",
        "print(tf.argmax(b, 1))\n",
        "print(tf.argmax(y_data, 1)) # matches with y_data"
      ],
      "metadata": {
        "colab": {
          "base_uri": "https://localhost:8080/"
        },
        "id": "V2ReMcF9mll5",
        "outputId": "a76be03b-5ea2-40a3-b7ed-537edc0d7cf5"
      },
      "execution_count": 12,
      "outputs": [
        {
          "output_type": "stream",
          "name": "stdout",
          "text": [
            "tf.Tensor(\n",
            "[[2.1975954e-06 1.2331181e-03 9.9876475e-01]\n",
            " [1.1288642e-03 8.1546754e-02 9.1732442e-01]\n",
            " [2.2205577e-07 1.6418636e-01 8.3581340e-01]\n",
            " [6.3922116e-06 8.5045439e-01 1.4953922e-01]\n",
            " [2.6150799e-01 7.2644740e-01 1.2044547e-02]\n",
            " [1.3783254e-01 8.6214006e-01 2.7417451e-05]\n",
            " [7.4242175e-01 2.5754121e-01 3.6978388e-05]\n",
            " [9.2197573e-01 7.8023702e-02 6.0005544e-07]], shape=(8, 3), dtype=float32)\n",
            "tf.Tensor([2 2 2 1 1 1 0 0], shape=(8,), dtype=int64)\n",
            "tf.Tensor([2 2 2 1 1 1 0 0], shape=(8,), dtype=int64)\n"
          ]
        }
      ]
    },
    {
      "cell_type": "code",
      "source": [
        "class softmax_classifer(tf.keras.Model):\n",
        "    def __init__(self, nb_classes):\n",
        "        super(softmax_classifer, self).__init__()\n",
        "        self.W = tf.Variable(tf.random.normal([4, nb_classes]), name='weight')\n",
        "        self.b = tf.Variable(tf.random.normal([nb_classes]), name='bias')\n",
        "        \n",
        "    def softmax_regression(self, X):\n",
        "        return tf.nn.softmax(tf.matmul(X, self.W) + self.b)\n",
        "    \n",
        "    def cost_fn(self, X, Y):\n",
        "        logits = self.softmax_regression(X)\n",
        "        cost = tf.reduce_mean(-tf.reduce_sum(Y * tf.log(logits), axis=1))\n",
        "        \n",
        "        return cost\n",
        "    \n",
        "    def grad_fn(self, X, Y):\n",
        "        with tf.GradientTape() as tape:\n",
        "            cost = self.cost_fn(x_data, y_data)\n",
        "            grads = tape.gradient(cost, self.variables)\n",
        "            \n",
        "            return grads\n",
        "    \n",
        "def fit(self, X, Y, epochs=2000, verbose=500):\n",
        "    optimizer =  tf.train.GradientDescentOptimizer(learning_rate=0.1)\n",
        "\n",
        "    for i in range(epochs):\n",
        "        grads = self.grad_fn(X, Y)\n",
        "        optimizer.apply_gradients(zip(grads, self.variables))\n",
        "        if (i==0) | ((i+1)%verbose==0):\n",
        "            print('Loss at epoch %d: %f' %(i+1, self.loss_fn(X, Y).numpy()))\n",
        "            \n",
        "model = softmax_classifer(nb_classes)\n",
        "model.fit(x_data, y_data)"
      ],
      "metadata": {
        "colab": {
          "base_uri": "https://localhost:8080/",
          "height": 363
        },
        "id": "W_Rh3nD0ml-g",
        "outputId": "0eb44e1b-68c6-4663-fb10-a3980a462841"
      },
      "execution_count": 15,
      "outputs": [
        {
          "output_type": "error",
          "ename": "RuntimeError",
          "evalue": "ignored",
          "traceback": [
            "\u001b[0;31m---------------------------------------------------------------------------\u001b[0m",
            "\u001b[0;31mRuntimeError\u001b[0m                              Traceback (most recent call last)",
            "\u001b[0;32m<ipython-input-15-451c06af0345>\u001b[0m in \u001b[0;36m<module>\u001b[0;34m()\u001b[0m\n\u001b[1;32m     31\u001b[0m \u001b[0;34m\u001b[0m\u001b[0m\n\u001b[1;32m     32\u001b[0m \u001b[0mmodel\u001b[0m \u001b[0;34m=\u001b[0m \u001b[0msoftmax_classifer\u001b[0m\u001b[0;34m(\u001b[0m\u001b[0mnb_classes\u001b[0m\u001b[0;34m)\u001b[0m\u001b[0;34m\u001b[0m\u001b[0;34m\u001b[0m\u001b[0m\n\u001b[0;32m---> 33\u001b[0;31m \u001b[0mmodel\u001b[0m\u001b[0;34m.\u001b[0m\u001b[0mfit\u001b[0m\u001b[0;34m(\u001b[0m\u001b[0mx_data\u001b[0m\u001b[0;34m,\u001b[0m \u001b[0my_data\u001b[0m\u001b[0;34m)\u001b[0m\u001b[0;34m\u001b[0m\u001b[0;34m\u001b[0m\u001b[0m\n\u001b[0m",
            "\u001b[0;32m/usr/local/lib/python3.7/dist-packages/keras/utils/traceback_utils.py\u001b[0m in \u001b[0;36merror_handler\u001b[0;34m(*args, **kwargs)\u001b[0m\n\u001b[1;32m     65\u001b[0m     \u001b[0;32mexcept\u001b[0m \u001b[0mException\u001b[0m \u001b[0;32mas\u001b[0m \u001b[0me\u001b[0m\u001b[0;34m:\u001b[0m  \u001b[0;31m# pylint: disable=broad-except\u001b[0m\u001b[0;34m\u001b[0m\u001b[0;34m\u001b[0m\u001b[0m\n\u001b[1;32m     66\u001b[0m       \u001b[0mfiltered_tb\u001b[0m \u001b[0;34m=\u001b[0m \u001b[0m_process_traceback_frames\u001b[0m\u001b[0;34m(\u001b[0m\u001b[0me\u001b[0m\u001b[0;34m.\u001b[0m\u001b[0m__traceback__\u001b[0m\u001b[0;34m)\u001b[0m\u001b[0;34m\u001b[0m\u001b[0;34m\u001b[0m\u001b[0m\n\u001b[0;32m---> 67\u001b[0;31m       \u001b[0;32mraise\u001b[0m \u001b[0me\u001b[0m\u001b[0;34m.\u001b[0m\u001b[0mwith_traceback\u001b[0m\u001b[0;34m(\u001b[0m\u001b[0mfiltered_tb\u001b[0m\u001b[0;34m)\u001b[0m \u001b[0;32mfrom\u001b[0m \u001b[0;32mNone\u001b[0m\u001b[0;34m\u001b[0m\u001b[0;34m\u001b[0m\u001b[0m\n\u001b[0m\u001b[1;32m     68\u001b[0m     \u001b[0;32mfinally\u001b[0m\u001b[0;34m:\u001b[0m\u001b[0;34m\u001b[0m\u001b[0;34m\u001b[0m\u001b[0m\n\u001b[1;32m     69\u001b[0m       \u001b[0;32mdel\u001b[0m \u001b[0mfiltered_tb\u001b[0m\u001b[0;34m\u001b[0m\u001b[0;34m\u001b[0m\u001b[0m\n",
            "\u001b[0;32m/usr/local/lib/python3.7/dist-packages/keras/engine/training.py\u001b[0m in \u001b[0;36m_assert_compile_was_called\u001b[0;34m(self)\u001b[0m\n\u001b[1;32m   3057\u001b[0m     \u001b[0;31m# (i.e. whether the model is built and its inputs/outputs are set).\u001b[0m\u001b[0;34m\u001b[0m\u001b[0;34m\u001b[0m\u001b[0;34m\u001b[0m\u001b[0m\n\u001b[1;32m   3058\u001b[0m     \u001b[0;32mif\u001b[0m \u001b[0;32mnot\u001b[0m \u001b[0mself\u001b[0m\u001b[0;34m.\u001b[0m\u001b[0m_is_compiled\u001b[0m\u001b[0;34m:\u001b[0m\u001b[0;34m\u001b[0m\u001b[0;34m\u001b[0m\u001b[0m\n\u001b[0;32m-> 3059\u001b[0;31m       raise RuntimeError('You must compile your model before '\n\u001b[0m\u001b[1;32m   3060\u001b[0m                          \u001b[0;34m'training/testing. '\u001b[0m\u001b[0;34m\u001b[0m\u001b[0;34m\u001b[0m\u001b[0m\n\u001b[1;32m   3061\u001b[0m                          'Use `model.compile(optimizer, loss)`.')\n",
            "\u001b[0;31mRuntimeError\u001b[0m: You must compile your model before training/testing. Use `model.compile(optimizer, loss)`."
          ]
        }
      ]
    }
  ]
}