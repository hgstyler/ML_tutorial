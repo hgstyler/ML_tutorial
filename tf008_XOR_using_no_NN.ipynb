{
  "nbformat": 4,
  "nbformat_minor": 0,
  "metadata": {
    "colab": {
      "name": "tf008_XOR_using_no_NN.ipynb",
      "provenance": [],
      "authorship_tag": "ABX9TyM8y2Ol9vxpolfc9B2qM96A",
      "include_colab_link": true
    },
    "kernelspec": {
      "name": "python3",
      "display_name": "Python 3"
    },
    "language_info": {
      "name": "python"
    }
  },
  "cells": [
    {
      "cell_type": "markdown",
      "metadata": {
        "id": "view-in-github",
        "colab_type": "text"
      },
      "source": [
        "<a href=\"https://colab.research.google.com/github/hgstyler/ML_tutorial/blob/main/tf008_XOR_using_no_NN.ipynb\" target=\"_parent\"><img src=\"https://colab.research.google.com/assets/colab-badge.svg\" alt=\"Open In Colab\"/></a>"
      ]
    },
    {
      "cell_type": "code",
      "execution_count": 1,
      "metadata": {
        "id": "EHAjaR70N6mz"
      },
      "outputs": [],
      "source": [
        "import numpy as np\n",
        "import matplotlib.pyplot as plt\n",
        "%matplotlib inline\n",
        "import tensorflow as tf\n",
        "\n",
        "tf.random.set_seed(777)  # for reproducibility\n",
        "tf.compat.v1.disable_eager_execution() # tf.compat.v1 methods, which is not compatible with eager execution"
      ]
    },
    {
      "cell_type": "code",
      "source": [
        "x_data = np.array([[0, 0], [0, 1], [1, 0], [1, 1]], dtype=np.float32)\n",
        "y_data = np.array([[0], [1], [1], [0]], dtype=np.float32)"
      ],
      "metadata": {
        "id": "huCSVGOUxZbM"
      },
      "execution_count": 2,
      "outputs": []
    },
    {
      "cell_type": "code",
      "source": [
        "X = tf.compat.v1.placeholder(tf.float32)\n",
        "Y = tf.compat.v1.placeholder(tf.float32)\n",
        "\n",
        "W = tf.Variable(tf.random.normal([2, 1]), name='weight')\n",
        "b = tf.Variable(tf.random.normal([1]), name='bias')"
      ],
      "metadata": {
        "id": "H6JEJXQfx75G"
      },
      "execution_count": 3,
      "outputs": []
    },
    {
      "cell_type": "code",
      "source": [
        "hypothesis = tf.sigmoid(tf.matmul(X, W) + b)\n",
        "\n",
        "cost = -tf.reduce_mean(Y * tf.math.log(hypothesis) + (1 - Y) * tf.math.log(1 - hypothesis))\n",
        "train = tf.compat.v1.train.GradientDescentOptimizer(learning_rate=0.1).minimize(cost)"
      ],
      "metadata": {
        "id": "4Z7ovYViyVNU"
      },
      "execution_count": 4,
      "outputs": []
    },
    {
      "cell_type": "code",
      "source": [
        "predicted = tf.cast(hypothesis > 0.5, dtype=tf.float32)\n",
        "accuracy = tf.reduce_mean(tf.cast(tf.equal(predicted, Y), dtype=tf.float32))"
      ],
      "metadata": {
        "id": "C2opFoUq0eEm"
      },
      "execution_count": 5,
      "outputs": []
    },
    {
      "cell_type": "code",
      "source": [
        "print('------------ Training Log ------------')\n",
        "with tf.compat.v1.Session() as sess:\n",
        "    sess.run(tf.compat.v1.global_variables_initializer())\n",
        "\n",
        "    for step in range(10001):\n",
        "        sess.run(train, feed_dict={X: x_data, Y: y_data})\n",
        "\n",
        "        if step % 1000 == 0:\n",
        "            print(step, sess.run(cost, feed_dict={X: x_data, Y: y_data}), sess.run(W))\n",
        "    \n",
        "    print('\\n\\n------------ Model Evaluation ------------')\n",
        "    h, c, a = sess.run([hypothesis, predicted, accuracy], feed_dict={X: x_data, Y: y_data})\n",
        "    print(f'\\nHypothesis: {h}\\nCorrect: {c}\\nAccuracy: {a}')"
      ],
      "metadata": {
        "colab": {
          "base_uri": "https://localhost:8080/"
        },
        "id": "MBGNw3Cg4bN0",
        "outputId": "4d7f0df5-a1ee-45b0-e25a-53b8d251576a"
      },
      "execution_count": 8,
      "outputs": [
        {
          "output_type": "stream",
          "name": "stdout",
          "text": [
            "------------ Training Log ------------\n",
            "0 0.7975231 [[ 0.4146431]\n",
            " [-1.2631727]]\n",
            "1000 0.69315827 [[-0.01107614]\n",
            " [-0.01439026]]\n",
            "2000 0.6931472 [[-0.00024677]\n",
            " [-0.00025304]]\n",
            "3000 0.6931472 [[-4.896275e-06]\n",
            " [-4.908901e-06]]\n",
            "4000 0.6931472 [[-9.5116164e-08]\n",
            " [-9.4330829e-08]]\n",
            "5000 0.6931472 [[-8.915568e-08]\n",
            " [-8.837034e-08]]\n",
            "6000 0.6931472 [[-8.915568e-08]\n",
            " [-8.837034e-08]]\n",
            "7000 0.6931472 [[-8.915568e-08]\n",
            " [-8.837034e-08]]\n",
            "8000 0.6931472 [[-8.915568e-08]\n",
            " [-8.837034e-08]]\n",
            "9000 0.6931472 [[-8.915568e-08]\n",
            " [-8.837034e-08]]\n",
            "10000 0.6931472 [[-8.915568e-08]\n",
            " [-8.837034e-08]]\n",
            "\n",
            "\n",
            "------------ Model Evaluation ------------\n",
            "\n",
            "Hypothesis: [[0.5]\n",
            " [0.5]\n",
            " [0.5]\n",
            " [0.5]]\n",
            "Correct: [[0.]\n",
            " [0.]\n",
            " [0.]\n",
            " [0.]]\n",
            "Accuracy: 0.5\n"
          ]
        }
      ]
    },
    {
      "cell_type": "code",
      "source": [
        ""
      ],
      "metadata": {
        "id": "tqQEpI4l5l6K"
      },
      "execution_count": 6,
      "outputs": []
    }
  ]
}