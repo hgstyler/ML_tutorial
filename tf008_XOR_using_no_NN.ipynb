{
  "nbformat": 4,
  "nbformat_minor": 0,
  "metadata": {
    "colab": {
      "name": "tf008_XOR_using_no_NN.ipynb",
      "provenance": [],
      "authorship_tag": "ABX9TyNGO8Xrc10jN7zZnwp7q+QO",
      "include_colab_link": true
    },
    "kernelspec": {
      "name": "python3",
      "display_name": "Python 3"
    },
    "language_info": {
      "name": "python"
    }
  },
  "cells": [
    {
      "cell_type": "markdown",
      "metadata": {
        "id": "view-in-github",
        "colab_type": "text"
      },
      "source": [
        "<a href=\"https://colab.research.google.com/github/hgstyler/ML_tutorial/blob/main/tf008_XOR_using_no_NN.ipynb\" target=\"_parent\"><img src=\"https://colab.research.google.com/assets/colab-badge.svg\" alt=\"Open In Colab\"/></a>"
      ]
    },
    {
      "cell_type": "code",
      "execution_count": 1,
      "metadata": {
        "id": "EHAjaR70N6mz"
      },
      "outputs": [],
      "source": [
        "import numpy as np\n",
        "import matplotlib.pyplot as plt\n",
        "%matplotlib inline\n",
        "import tensorflow as tf\n",
        "\n",
        "tf.random.set_seed(777)  # for reproducibility\n",
        "tf.compat.v1.disable_eager_execution() # tf.compat.v1 methods, which is not compatible with eager execution"
      ]
    },
    {
      "cell_type": "code",
      "source": [
        "x_data = np.array([[0, 0], [0, 1], [1, 0], [1, 1]], dtype=np.float32)\n",
        "y_data = np.array([[0], [1], [1], [0]], dtype=np.float32)"
      ],
      "metadata": {
        "id": "huCSVGOUxZbM"
      },
      "execution_count": 2,
      "outputs": []
    },
    {
      "cell_type": "code",
      "source": [
        "X = tf.compat.v1.placeholder(tf.float32)\n",
        "Y = tf.compat.v1.placeholder(tf.float32)\n",
        "\n",
        "W = tf.Variable(tf.random.normal([2, 1]), name='weight')\n",
        "b = tf.Variable(tf.random.normal([1]), name='bias')"
      ],
      "metadata": {
        "id": "H6JEJXQfx75G"
      },
      "execution_count": 3,
      "outputs": []
    },
    {
      "cell_type": "code",
      "source": [
        "hypothesis = tf.sigmoid(tf.matmul(X, W) + b)\n",
        "\n",
        "cost = -tf.reduce_mean(Y * tf.math.log(hypothesis) + (1 - Y) * tf.math.log(1 - hypothesis))\n",
        "train = tf.compat.v1.train.GradientDescentOptimizer(learning_rate=0.1).minimize(cost)"
      ],
      "metadata": {
        "id": "4Z7ovYViyVNU"
      },
      "execution_count": 4,
      "outputs": []
    },
    {
      "cell_type": "code",
      "source": [
        "predicted = tf.cast(hypothesis > 0.5, dtype=tf.float32)\n",
        "accuracy = tf.reduce_mean(tf.cast(tf.equal(predicted, Y), dtype=tf.float32))"
      ],
      "metadata": {
        "id": "C2opFoUq0eEm"
      },
      "execution_count": 5,
      "outputs": []
    },
    {
      "cell_type": "code",
      "source": [
        "print('------------ Training Log ------------')\n",
        "with tf.compat.v1.Session() as sess:\n",
        "    sess.run(tf.compat.v1.global_variables_initializer())\n",
        "\n",
        "    for step in range(10001):\n",
        "        sess.run(train, feed_dict={X: x_data, Y: y_data})\n",
        "\n",
        "        if step % 1000 == 0:\n",
        "            print(f'Step: {step}, {sess.run(cost, feed_dict={X: x_data, Y: y_data})} {sess.run(W)}')\n",
        "    \n",
        "    print('\\n\\n------------ Model Evaluation ------------')\n",
        "    h, c, a = sess.run([hypothesis, predicted, accuracy], feed_dict={X: x_data, Y: y_data})\n",
        "    print(f'\\nHypothesis:\\n{h}\\n\\nCorrect:\\n{c}\\nAccuracy: {a}')"
      ],
      "metadata": {
        "colab": {
          "base_uri": "https://localhost:8080/"
        },
        "id": "MBGNw3Cg4bN0",
        "outputId": "a199ee7f-5fde-46b2-f4ab-a4f3da3bb51f"
      },
      "execution_count": 6,
      "outputs": [
        {
          "output_type": "stream",
          "name": "stdout",
          "text": [
            "------------ Training Log ------------\n",
            "Step: 0, 0.7220076322555542 [[-0.89076006]\n",
            " [ 0.03437515]]\n",
            "Step: 1000, 0.693152904510498 [[-0.01013732]\n",
            " [-0.00836607]]\n",
            "Step: 2000, 0.6931471824645996 [[-0.00018325]\n",
            " [-0.0001799 ]]\n",
            "Step: 3000, 0.6931471824645996 [[-3.5684018e-06]\n",
            " [-3.5596033e-06]]\n",
            "Step: 4000, 0.6931471824645996 [[-8.897608e-08]\n",
            " [-8.911796e-08]]\n",
            "Step: 5000, 0.6931471824645996 [[-8.897608e-08]\n",
            " [-8.911796e-08]]\n",
            "Step: 6000, 0.6931471824645996 [[-8.897608e-08]\n",
            " [-8.911796e-08]]\n",
            "Step: 7000, 0.6931471824645996 [[-8.897608e-08]\n",
            " [-8.911796e-08]]\n",
            "Step: 8000, 0.6931471824645996 [[-8.897608e-08]\n",
            " [-8.911796e-08]]\n",
            "Step: 9000, 0.6931471824645996 [[-8.897608e-08]\n",
            " [-8.911796e-08]]\n",
            "Step: 10000, 0.6931471824645996 [[-8.897608e-08]\n",
            " [-8.911796e-08]]\n",
            "\n",
            "\n",
            "------------ Model Evaluation ------------\n",
            "\n",
            "Hypothesis:\n",
            "[[0.5]\n",
            " [0.5]\n",
            " [0.5]\n",
            " [0.5]]\n",
            "\n",
            "Correct:\n",
            "[[0.]\n",
            " [0.]\n",
            " [0.]\n",
            " [0.]]\n",
            "Accuracy: 0.5\n"
          ]
        }
      ]
    },
    {
      "cell_type": "code",
      "source": [
        ""
      ],
      "metadata": {
        "id": "tqQEpI4l5l6K"
      },
      "execution_count": 6,
      "outputs": []
    }
  ]
}