{
  "nbformat": 4,
  "nbformat_minor": 0,
  "metadata": {
    "colab": {
      "name": "tf003_Multi_Variable_Linear_Regression.ipynb",
      "provenance": [],
      "authorship_tag": "ABX9TyPKwoUnF9QkIsboqi3RsGJt",
      "include_colab_link": true
    },
    "kernelspec": {
      "name": "python3",
      "display_name": "Python 3"
    },
    "language_info": {
      "name": "python"
    }
  },
  "cells": [
    {
      "cell_type": "markdown",
      "metadata": {
        "id": "view-in-github",
        "colab_type": "text"
      },
      "source": [
        "<a href=\"https://colab.research.google.com/github/hgstyler/ML_tutorial/blob/main/tf003_Multi_Variable_Linear_Regression.ipynb\" target=\"_parent\"><img src=\"https://colab.research.google.com/assets/colab-badge.svg\" alt=\"Open In Colab\"/></a>"
      ]
    },
    {
      "cell_type": "code",
      "execution_count": 12,
      "metadata": {
        "colab": {
          "base_uri": "https://localhost:8080/"
        },
        "id": "RmChV5quq5fa",
        "outputId": "0ee9647e-e566-420b-9532-a9d1843ccca4"
      },
      "outputs": [
        {
          "output_type": "stream",
          "name": "stdout",
          "text": [
            "    0 | 19564.1309\n",
            "  100 |     8.5311\n",
            "  200 |     6.0915\n",
            "  300 |     6.0595\n",
            "  400 |     6.0280\n",
            "  500 |     5.9967\n",
            "  600 |     5.9655\n",
            "  700 |     5.9345\n",
            "  800 |     5.9037\n",
            "  900 |     5.8730\n",
            " 1000 |     5.8425\n",
            " 1100 |     5.8122\n",
            " 1200 |     5.7820\n",
            " 1300 |     5.7520\n",
            " 1400 |     5.7221\n",
            " 1500 |     5.6924\n",
            " 1600 |     5.6629\n",
            " 1700 |     5.6335\n",
            " 1800 |     5.6043\n",
            " 1900 |     5.5752\n",
            " 2000 |     5.5464\n"
          ]
        }
      ],
      "source": [
        "import tensorflow as tf\n",
        "import numpy as np\n",
        "\n",
        "data = np.array([\n",
        "                # X1,  X2,  X3,   y\n",
        "                [ 73., 80., 75., 152. ],\n",
        "                [ 93., 88., 93., 185. ],\n",
        "                [ 89., 91., 90., 180. ],\n",
        "                [ 96., 98., 100., 196. ],\n",
        "                [ 73., 66., 70., 142. ]], dtype=np.float32)\n",
        "\n",
        "# slice data\n",
        "X = data[:, :-1]\n",
        "y = data[:, [-1]]\n",
        "\n",
        "W = tf.Variable(tf.random.normal([3, 1]))\n",
        "b = tf.Variable(tf.random.normal([1]))\n",
        "\n",
        "learning_rate = 0.000001\n",
        "\n",
        "# hypothesis, prediction function\n",
        "def predict(X):\n",
        "    return tf.matmul(X, W) + b\n",
        "\n",
        "n_epochs = 2000\n",
        "\n",
        "for i in range(n_epochs+1):\n",
        "    # record the gradient of the cost function\n",
        "    with tf.GradientTape() as tape:\n",
        "        cost = tf.reduce_mean((tf.square(predict(X) - y)))\n",
        "\n",
        "        # calculates the gradients of the loss\n",
        "        W_grad, b_grad = tape.gradient(cost, [W, b])\n",
        "        \n",
        "        # updates parameters (W and b)\n",
        "        W.assign_sub(learning_rate * W_grad)\n",
        "        b.assign_sub(learning_rate * b_grad)\n",
        "        \n",
        "        if i % 100 == 0:\n",
        "            print(\"{:5} | {:10.4f}\".format(i, cost.numpy()))"
      ]
    },
    {
      "cell_type": "code",
      "source": [
        "x_test = np.array([73., 80., 75.], dtype=np.float32)\n",
        "\n",
        "print(tf.matmul(X, W) + b)"
      ],
      "metadata": {
        "colab": {
          "base_uri": "https://localhost:8080/"
        },
        "id": "lekW88MMxRJt",
        "outputId": "560f7f68-6518-4d85-f3ce-534b8bf16b47"
      },
      "execution_count": 15,
      "outputs": [
        {
          "output_type": "stream",
          "name": "stdout",
          "text": [
            "tf.Tensor(\n",
            "[[154.62428]\n",
            " [182.46303]\n",
            " [181.64658]\n",
            " [197.11548]\n",
            " [138.76706]], shape=(5, 1), dtype=float32)\n"
          ]
        }
      ]
    }
  ]
}