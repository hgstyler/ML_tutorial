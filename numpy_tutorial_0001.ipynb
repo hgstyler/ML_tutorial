{
  "nbformat": 4,
  "nbformat_minor": 0,
  "metadata": {
    "colab": {
      "name": "numpy_tutorial_0001",
      "private_outputs": true,
      "provenance": [],
      "collapsed_sections": [],
      "authorship_tag": "ABX9TyMRIrfJFhT367yZgd+pNb64",
      "include_colab_link": true
    },
    "kernelspec": {
      "name": "python3",
      "display_name": "Python 3"
    },
    "language_info": {
      "name": "python"
    },
    "gpuClass": "standard"
  },
  "cells": [
    {
      "cell_type": "markdown",
      "metadata": {
        "id": "view-in-github",
        "colab_type": "text"
      },
      "source": [
        "<a href=\"https://colab.research.google.com/github/hgstyler/numpy_tutorial/blob/main/numpy_tutorial_0001.ipynb\" target=\"_parent\"><img src=\"https://colab.research.google.com/assets/colab-badge.svg\" alt=\"Open In Colab\"/></a>"
      ]
    },
    {
      "cell_type": "code",
      "execution_count": null,
      "metadata": {
        "id": "GNFI8aTIGs0i"
      },
      "outputs": [],
      "source": [
        "import numpy as np\n",
        "import tensorflow as tf\n",
        "import keras\n",
        "\n",
        "mylist1 = [1,2,3]\n",
        "mylist2 = [4,5,6]\n",
        "myarray1 = np.array(mylist1)\n",
        "myarray2 = np.array([[1,2,3], [4,5,6]])\n",
        "\n",
        "print(f'mylist1: {mylist1}')\n",
        "print(f'myarray1: {myarray1}')\n",
        "print(f'myarray1: {myarray1.T}')\n",
        "print(f'myarray2: {myarray2}')\n",
        "print(f'myarray2: {myarray2.T}')\n",
        "print()\n",
        "\n",
        "print(f'mylist1: {type(mylist1)}')\n",
        "print(f'myarray1: {type(myarray1)}')\n",
        "print(f'myarray2: {type(myarray2)}')\n",
        "print()\n",
        "\n",
        "print('myarray1')\n",
        "print(f'dimension: {myarray1.ndim}')\n",
        "print(f'dimension: {myarray1.T.ndim}')\n",
        "print(f'shape: {myarray1.shape}')\n",
        "print(f'shape: {myarray1.T.shape}')\n",
        "print(f'type: {myarray1.dtype}')\n",
        "print(f'size: {myarray1.size}')\n",
        "print()\n",
        "\n",
        "print('myarray2')\n",
        "print(f'dimension of myarray2: {myarray2.ndim}')\n",
        "print(f'shape of myarray2: {myarray2.shape}')\n",
        "print(f'dimension of myarray2: {myarray2.T.ndim}')\n",
        "print(f'shape of myarray2: {myarray2.T.shape}')\n",
        "print(f'type: {myarray2.dtype}')\n",
        "print(f'size: {myarray2.size}')\n",
        "print()"
      ]
    },
    {
      "cell_type": "code",
      "source": [
        "myarray3 = np.arange(10)\n",
        "print(myarray3)\n",
        "\n",
        "myarray4 = np.linspace(1, 200, 24)\n",
        "print(myarray4)\n",
        "\n",
        "print(np.zeros(shape=(3,5)))\n",
        "print(np.full(shape=(4,6), fill_value=-4.1234))\n",
        "print(np.eye(6))\n",
        "print(np.random.randn(5))"
      ],
      "metadata": {
        "id": "09CrwxhCaiLp"
      },
      "execution_count": null,
      "outputs": []
    },
    {
      "cell_type": "code",
      "source": [
        "p"
      ],
      "metadata": {
        "id": "uD1EDg7XMnIO"
      },
      "execution_count": null,
      "outputs": []
    }
  ]
}