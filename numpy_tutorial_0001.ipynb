{
  "nbformat": 4,
  "nbformat_minor": 0,
  "metadata": {
    "colab": {
      "name": "numpy_tutorial_0001",
      "provenance": [],
      "collapsed_sections": [],
      "authorship_tag": "ABX9TyPUdwTuSLT1Kn3Lx9AhqcGj",
      "include_colab_link": true
    },
    "kernelspec": {
      "name": "python3",
      "display_name": "Python 3"
    },
    "language_info": {
      "name": "python"
    },
    "gpuClass": "standard"
  },
  "cells": [
    {
      "cell_type": "markdown",
      "metadata": {
        "id": "view-in-github",
        "colab_type": "text"
      },
      "source": [
        "<a href=\"https://colab.research.google.com/github/hgstyler/numpy_tutorial/blob/main/numpy_tutorial_0001.ipynb\" target=\"_parent\"><img src=\"https://colab.research.google.com/assets/colab-badge.svg\" alt=\"Open In Colab\"/></a>"
      ]
    },
    {
      "cell_type": "markdown",
      "source": [
        "# **Numpy Tutorial & Practice**\n",
        "begins on 0616, 2022 <br>\n",
        "[by 테디베어](https://teddylee777.github.io/python/numpy-tutorial) <br>\n",
        "[by Justin Johnson, AI Korea](http://aikorea.org/cs231n/python-numpy-tutorial/) <br>\n",
        "[by 박해선님, TensorFlow Blog](https://tensorflow.blog/%ED%95%B8%EC%A6%88%EC%98%A8-%EB%A8%B8%EC%8B%A0%EB%9F%AC%EB%8B%9D-1%EC%9E%A5-2%EC%9E%A5/%EB%84%98%ED%8C%8C%EC%9D%B4-%ED%8A%9C%ED%86%A0%EB%A6%AC%EC%96%BC/) <br>"
      ],
      "metadata": {
        "id": "w8nJHKfTa31R"
      }
    },
    {
      "cell_type": "markdown",
      "source": [
        "**<import modules\\>**"
      ],
      "metadata": {
        "id": "jDn7saFebK-6"
      }
    },
    {
      "cell_type": "code",
      "execution_count": 48,
      "metadata": {
        "id": "GNFI8aTIGs0i"
      },
      "outputs": [],
      "source": [
        "import numpy as np\n",
        "import tensorflow as tf\n",
        "import keras"
      ]
    },
    {
      "cell_type": "markdown",
      "source": [
        "**0001**"
      ],
      "metadata": {
        "id": "XHZXvQDNbRUR"
      }
    },
    {
      "cell_type": "code",
      "source": [
        "mylist1 = [1,2,3]\n",
        "mylist2 = [4,5,6]\n",
        "myarray1 = np.array(mylist1)\n",
        "myarray2 = np.array([[1,2,3], [4,5,6]])\n",
        "\n",
        "print(f'mylist1: {mylist1}')\n",
        "print(f'myarray1: {myarray1}')\n",
        "print(f'myarray1: {myarray1.T}')\n",
        "print(f'myarray2: {myarray2}')\n",
        "print(f'myarray2: {myarray2.T}')\n",
        "print()\n",
        "\n",
        "print(f'mylist1: {type(mylist1)}')\n",
        "print(f'myarray1: {type(myarray1)}')\n",
        "print(f'myarray2: {type(myarray2)}')\n",
        "print()\n",
        "\n",
        "print('myarray1')\n",
        "print(f'dimension: {myarray1.ndim}')\n",
        "print(f'dimension: {myarray1.T.ndim}')\n",
        "print(f'shape: {myarray1.shape}')\n",
        "print(f'shape: {myarray1.T.shape}')\n",
        "print(f'type: {myarray1.dtype}')\n",
        "print(f'size: {myarray1.size}')\n",
        "print()\n",
        "\n",
        "print('myarray2')\n",
        "print(f'dimension of myarray2: {myarray2.ndim}')\n",
        "print(f'shape of myarray2: {myarray2.shape}')\n",
        "print(f'dimension of myarray2: {myarray2.T.ndim}')\n",
        "print(f'shape of myarray2: {myarray2.T.shape}')\n",
        "print(f'type: {myarray2.dtype}')\n",
        "print(f'size: {myarray2.size}')\n",
        "print()"
      ],
      "metadata": {
        "colab": {
          "base_uri": "https://localhost:8080/"
        },
        "id": "ejQpDc_7atAu",
        "outputId": "3d203e62-4bd1-478b-8cb1-09c2d4dbdcb0"
      },
      "execution_count": 80,
      "outputs": [
        {
          "output_type": "stream",
          "name": "stdout",
          "text": [
            "mylist1: [1, 2, 3]\n",
            "myarray1: [1 2 3]\n",
            "myarray1: [1 2 3]\n",
            "myarray2: [[1 2 3]\n",
            " [4 5 6]]\n",
            "myarray2: [[1 4]\n",
            " [2 5]\n",
            " [3 6]]\n",
            "\n",
            "mylist1: <class 'list'>\n",
            "myarray1: <class 'numpy.ndarray'>\n",
            "myarray2: <class 'numpy.ndarray'>\n",
            "\n",
            "myarray1\n",
            "dimension: 1\n",
            "dimension: 1\n",
            "shape: (3,)\n",
            "shape: (3,)\n",
            "type: int64\n",
            "size: 3\n",
            "\n",
            "myarray2\n",
            "dimension of myarray2: 2\n",
            "shape of myarray2: (2, 3)\n",
            "dimension of myarray2: 2\n",
            "shape of myarray2: (3, 2)\n",
            "type: int64\n",
            "size: 6\n",
            "\n"
          ]
        }
      ]
    },
    {
      "cell_type": "markdown",
      "source": [
        "**0002**"
      ],
      "metadata": {
        "id": "InhwEj-bbV8-"
      }
    },
    {
      "cell_type": "code",
      "source": [
        "myarray3 = np.arange(10)\n",
        "print(myarray3)\n",
        "\n",
        "myarray4 = np.linspace(1, 200, 24)\n",
        "print(myarray4)\n",
        "\n",
        "print(np.zeros(shape=(3,5)))\n",
        "print(np.full(shape=(4,6), fill_value=-4.1234))\n",
        "print(np.eye(6))\n",
        "print(np.random.randn(5))"
      ],
      "metadata": {
        "colab": {
          "base_uri": "https://localhost:8080/"
        },
        "id": "09CrwxhCaiLp",
        "outputId": "8a4f6c41-7afe-477b-b5ec-be2693d414d1"
      },
      "execution_count": 49,
      "outputs": [
        {
          "output_type": "stream",
          "name": "stdout",
          "text": [
            "[0 1 2 3 4 5 6 7 8 9]\n",
            "[  1.           9.65217391  18.30434783  26.95652174  35.60869565\n",
            "  44.26086957  52.91304348  61.56521739  70.2173913   78.86956522\n",
            "  87.52173913  96.17391304 104.82608696 113.47826087 122.13043478\n",
            " 130.7826087  139.43478261 148.08695652 156.73913043 165.39130435\n",
            " 174.04347826 182.69565217 191.34782609 200.        ]\n",
            "[[0. 0. 0. 0. 0.]\n",
            " [0. 0. 0. 0. 0.]\n",
            " [0. 0. 0. 0. 0.]]\n",
            "[[-4.1234 -4.1234 -4.1234 -4.1234 -4.1234 -4.1234]\n",
            " [-4.1234 -4.1234 -4.1234 -4.1234 -4.1234 -4.1234]\n",
            " [-4.1234 -4.1234 -4.1234 -4.1234 -4.1234 -4.1234]\n",
            " [-4.1234 -4.1234 -4.1234 -4.1234 -4.1234 -4.1234]]\n",
            "[[1. 0. 0. 0. 0. 0.]\n",
            " [0. 1. 0. 0. 0. 0.]\n",
            " [0. 0. 1. 0. 0. 0.]\n",
            " [0. 0. 0. 1. 0. 0.]\n",
            " [0. 0. 0. 0. 1. 0.]\n",
            " [0. 0. 0. 0. 0. 1.]]\n",
            "[ 1.98797603 -0.28514469 -0.98348547  0.75617591  0.59482156]\n"
          ]
        }
      ]
    },
    {
      "cell_type": "markdown",
      "source": [
        "**0003**"
      ],
      "metadata": {
        "id": "zAQ2p2pWb7uG"
      }
    },
    {
      "cell_type": "code",
      "source": [
        "arr1 = np.array([1,2,3,4,5])\n",
        "print(arr1)\n",
        "print(arr1[4])\n",
        "print(arr1[:2])\n",
        "print(arr1[2:])\n",
        "print(arr1[2:4])\n",
        "print(arr1[:-2])\n",
        "print(arr1[-2:])\n",
        "# print(arr1[6]) #out of index range\n",
        "print()\n",
        "arr2 = np.array([[1,2,3,4,5], \n",
        "                [6,7,8,9,10],\n",
        "                [11,12,13,14,15]])\n",
        "print(arr2)\n",
        "print(arr2.shape)\n",
        "print(arr2[2,0])\n",
        "print(arr2[2][0])\n",
        "print(arr2[:,1:3])\n",
        "print(arr2[:2,1:3])\n",
        "\n",
        "arr3 = np.arange(15)\n",
        "print(arr3)\n",
        "print(arr3.reshape(5,3))\n",
        "print(arr3.reshape(3,5))\n",
        "print(arr3.reshape(5,-1))\n",
        "print(arr3.reshape(-1,5))"
      ],
      "metadata": {
        "colab": {
          "base_uri": "https://localhost:8080/"
        },
        "id": "RIGu_Tcia2Y6",
        "outputId": "6d9165a4-015a-482b-c718-f8ae587acb7d"
      },
      "execution_count": 79,
      "outputs": [
        {
          "output_type": "stream",
          "name": "stdout",
          "text": [
            "[1 2 3 4 5]\n",
            "5\n",
            "[1 2]\n",
            "[3 4 5]\n",
            "[3 4]\n",
            "[1 2 3]\n",
            "[4 5]\n",
            "\n",
            "[[ 1  2  3  4  5]\n",
            " [ 6  7  8  9 10]\n",
            " [11 12 13 14 15]]\n",
            "(3, 5)\n",
            "11\n",
            "11\n",
            "[[ 2  3]\n",
            " [ 7  8]\n",
            " [12 13]]\n",
            "[[2 3]\n",
            " [7 8]]\n",
            "[ 0  1  2  3  4  5  6  7  8  9 10 11 12 13 14]\n",
            "[[ 0  1  2]\n",
            " [ 3  4  5]\n",
            " [ 6  7  8]\n",
            " [ 9 10 11]\n",
            " [12 13 14]]\n",
            "[[ 0  1  2  3  4]\n",
            " [ 5  6  7  8  9]\n",
            " [10 11 12 13 14]]\n",
            "[[ 0  1  2]\n",
            " [ 3  4  5]\n",
            " [ 6  7  8]\n",
            " [ 9 10 11]\n",
            " [12 13 14]]\n",
            "[[ 0  1  2  3  4]\n",
            " [ 5  6  7  8  9]\n",
            " [10 11 12 13 14]]\n"
          ]
        }
      ]
    }
  ]
}